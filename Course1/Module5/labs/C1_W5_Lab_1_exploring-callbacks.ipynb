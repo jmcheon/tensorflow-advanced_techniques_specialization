{
 "cells": [
  {
   "cell_type": "markdown",
   "metadata": {
    "colab_type": "text",
    "id": "view-in-github"
   },
   "source": [
    "<a href=\"https://colab.research.google.com/github/https-deeplearning-ai/tensorflow-3-public/blob/main/Course%201%20-%20Custom%20Models%2C%20Layers%20and%20Loss%20Functions/Week%205%20-%20Callbacks/C1_W5_Lab_1_exploring-callbacks.ipynb\" target=\"_parent\"><img src=\"https://colab.research.google.com/assets/colab-badge.svg\" alt=\"Open In Colab\"/></a>"
   ]
  },
  {
   "cell_type": "markdown",
   "metadata": {
    "colab_type": "text",
    "id": "0c_TYhQOUe1j"
   },
   "source": [
    "# Ungraded Lab: Introduction to Keras callbacks\n",
    "\n",
    "In Keras, `Callback` is a Python class meant to be subclassed to provide specific functionality, with a set of methods called at various stages of training (including batch/epoch start and ends), testing, and predicting. Callbacks are useful to get a view on internal states and statistics of the model during training. The methods of the callbacks can  be called at different stages of training/evaluating/inference. Keras has available [callbacks](https://keras.io/api/callbacks/) and we'll show how you can use it in the following sections. Please click the **Open in Colab** badge above to complete this exercise in Colab. This will allow you to take advantage of the free GPU runtime (for faster training) and compatibility with all the packages needed in this notebook."
   ]
  },
  {
   "cell_type": "markdown",
   "metadata": {
    "colab_type": "text",
    "id": "Uyl69EyRQx-f"
   },
   "source": [
    "## Model methods that take callbacks\n",
    "Users can supply a list of callbacks to the following `tf.keras.Model` methods:\n",
    "* [`fit()`](https://www.tensorflow.org/versions/r2.0/api_docs/python/tf/keras/Model#fit), [`fit_generator()`](https://www.tensorflow.org/versions/r2.0/api_docs/python/tf/keras/Model#fit_generator)\n",
    "Trains the model for a fixed number of epochs (iterations over a dataset, or data yielded batch-by-batch by a Python generator).\n",
    "* [`evaluate()`](https://www.tensorflow.org/versions/r2.0/api_docs/python/tf/keras/Model#evaluate), [`evaluate_generator()`](https://www.tensorflow.org/versions/r2.0/api_docs/python/tf/keras/Model#evaluate_generator)\n",
    "Evaluates the model for given data or data generator. Outputs the loss and metric values from the evaluation.\n",
    "* [`predict()`](https://www.tensorflow.org/versions/r2.0/api_docs/python/tf/keras/Model#predict), [`predict_generator()`](https://www.tensorflow.org/versions/r2.0/api_docs/python/tf/keras/Model#predict_generator)\n",
    "Generates output predictions for the input data or data generator."
   ]
  },
  {
   "cell_type": "markdown",
   "metadata": {},
   "source": [
    "## Imports"
   ]
  },
  {
   "cell_type": "code",
   "execution_count": 1,
   "metadata": {
    "colab": {},
    "colab_type": "code",
    "id": "AlT1Kh3uA9lZ"
   },
   "outputs": [
    {
     "name": "stdout",
     "output_type": "stream",
     "text": [
      "Version:  2.1.0\n"
     ]
    }
   ],
   "source": [
    "from __future__ import absolute_import, division, print_function, unicode_literals\n",
    "\n",
    "try:\n",
    "    # %tensorflow_version only exists in Colab.\n",
    "    %tensorflow_version 2.x\n",
    "except Exception:\n",
    "    pass\n",
    "\n",
    "import tensorflow as tf\n",
    "import tensorflow_datasets as tfds\n",
    "import matplotlib.pyplot as plt\n",
    "import io\n",
    "from PIL import Image\n",
    "\n",
    "from tensorflow.keras.callbacks import TensorBoard, EarlyStopping, LearningRateScheduler, ModelCheckpoint, CSVLogger, ReduceLROnPlateau\n",
    "%load_ext tensorboard\n",
    "\n",
    "import os\n",
    "import matplotlib.pylab as plt\n",
    "import numpy as np\n",
    "import math\n",
    "import datetime\n",
    "import pandas as pd\n",
    "\n",
    "print(\"Version: \", tf.__version__)\n",
    "tf.get_logger().setLevel('INFO')"
   ]
  },
  {
   "cell_type": "markdown",
   "metadata": {
    "colab_type": "text",
    "id": "HnSljqtsXKfb"
   },
   "source": [
    "# Examples of Keras callback applications\n",
    "The following section will guide you through creating simple [Callback](https://keras.io/api/callbacks/) applications."
   ]
  },
  {
   "cell_type": "code",
   "execution_count": 2,
   "metadata": {
    "colab": {},
    "colab_type": "code",
    "id": "spskRuxvCYQE"
   },
   "outputs": [],
   "source": [
    "# Download and prepare the horses or humans dataset\n",
    "\n",
    "# horses_or_humans 3.0.0 has already been downloaded for you\n",
    "path = \"./tensorflow_datasets\"\n",
    "splits, info = tfds.load('horses_or_humans', data_dir=path, as_supervised=True, with_info=True, split=['train[:80%]', 'train[80%:]', 'test'])\n",
    "\n",
    "(train_examples, validation_examples, test_examples) = splits\n",
    "\n",
    "num_examples = info.splits['train'].num_examples\n",
    "num_classes = info.features['label'].num_classes"
   ]
  },
  {
   "cell_type": "code",
   "execution_count": 3,
   "metadata": {
    "colab": {},
    "colab_type": "code",
    "id": "veIsubKTCZsN"
   },
   "outputs": [],
   "source": [
    "SIZE = 150 #@param {type:\"slider\", min:64, max:300, step:1}\n",
    "IMAGE_SIZE = (SIZE, SIZE)"
   ]
  },
  {
   "cell_type": "code",
   "execution_count": 4,
   "metadata": {
    "colab": {},
    "colab_type": "code",
    "id": "faajLlErCb1S"
   },
   "outputs": [],
   "source": [
    "def format_image(image, label):\n",
    "  image = tf.image.resize(image, IMAGE_SIZE) / 255.0\n",
    "  return  image, label"
   ]
  },
  {
   "cell_type": "code",
   "execution_count": 5,
   "metadata": {
    "colab": {},
    "colab_type": "code",
    "id": "AVXPuU12Cdka"
   },
   "outputs": [],
   "source": [
    "BATCH_SIZE = 32 #@param {type:\"integer\"}"
   ]
  },
  {
   "cell_type": "code",
   "execution_count": 6,
   "metadata": {
    "colab": {},
    "colab_type": "code",
    "id": "0lHDkFVaCe48"
   },
   "outputs": [],
   "source": [
    "train_batches = train_examples.shuffle(num_examples // 4).map(format_image).batch(BATCH_SIZE).prefetch(1)\n",
    "validation_batches = validation_examples.map(format_image).batch(BATCH_SIZE).prefetch(1)\n",
    "test_batches = test_examples.map(format_image).batch(1)"
   ]
  },
  {
   "cell_type": "code",
   "execution_count": 7,
   "metadata": {
    "colab": {},
    "colab_type": "code",
    "id": "DxsCqEIkCgUt"
   },
   "outputs": [
    {
     "data": {
      "text/plain": [
       "TensorShape([32, 150, 150, 3])"
      ]
     },
     "execution_count": 7,
     "metadata": {},
     "output_type": "execute_result"
    }
   ],
   "source": [
    "for image_batch, label_batch in train_batches.take(1):\n",
    "  pass\n",
    "\n",
    "image_batch.shape"
   ]
  },
  {
   "cell_type": "code",
   "execution_count": 8,
   "metadata": {
    "colab": {},
    "colab_type": "code",
    "id": "iDBpWvHXCh2A"
   },
   "outputs": [],
   "source": [
    "def build_model(dense_units, input_shape=IMAGE_SIZE + (3,)):\n",
    "  model = tf.keras.models.Sequential([\n",
    "      tf.keras.layers.Conv2D(16, (3, 3), activation='relu', input_shape=input_shape),\n",
    "      tf.keras.layers.MaxPooling2D(2, 2),\n",
    "      tf.keras.layers.Conv2D(32, (3, 3), activation='relu'),\n",
    "      tf.keras.layers.MaxPooling2D(2, 2),\n",
    "      tf.keras.layers.Conv2D(64, (3, 3), activation='relu'),\n",
    "      tf.keras.layers.MaxPooling2D(2, 2),\n",
    "      tf.keras.layers.Flatten(),\n",
    "      tf.keras.layers.Dense(dense_units, activation='relu'),\n",
    "      tf.keras.layers.Dense(2, activation='softmax')\n",
    "  ])\n",
    "  return model"
   ]
  },
  {
   "cell_type": "markdown",
   "metadata": {
    "colab_type": "text",
    "id": "0ZKGkjagENSw"
   },
   "source": [
    "## [TensorBoard](https://keras.io/api/callbacks/tensorboard/)\n",
    "\n",
    "Enable visualizations for TensorBoard."
   ]
  },
  {
   "cell_type": "code",
   "execution_count": 9,
   "metadata": {
    "colab": {},
    "colab_type": "code",
    "id": "CeiD2WVEHbex"
   },
   "outputs": [],
   "source": [
    "!rm -rf logs"
   ]
  },
  {
   "cell_type": "code",
   "execution_count": 10,
   "metadata": {
    "colab": {},
    "colab_type": "code",
    "id": "PpLwPLnAEOzv"
   },
   "outputs": [
    {
     "name": "stdout",
     "output_type": "stream",
     "text": [
      "Epoch 1/10\n",
      "26/26 [==============================] - 21s 817ms/step - loss: 0.6683 - accuracy: 0.5864 - val_loss: 0.7166 - val_accuracy: 0.4341\n",
      "Epoch 2/10\n",
      "26/26 [==============================] - 20s 780ms/step - loss: 0.6326 - accuracy: 0.6934 - val_loss: 0.6055 - val_accuracy: 0.7610\n",
      "Epoch 3/10\n",
      "26/26 [==============================] - 20s 762ms/step - loss: 0.5742 - accuracy: 0.7263 - val_loss: 0.5775 - val_accuracy: 0.7220\n",
      "Epoch 4/10\n",
      "26/26 [==============================] - 20s 769ms/step - loss: 0.5515 - accuracy: 0.7336 - val_loss: 0.4904 - val_accuracy: 0.8146\n",
      "Epoch 5/10\n",
      "26/26 [==============================] - 20s 769ms/step - loss: 0.4946 - accuracy: 0.7822 - val_loss: 0.4374 - val_accuracy: 0.8341\n",
      "Epoch 6/10\n",
      "26/26 [==============================] - 20s 765ms/step - loss: 0.4261 - accuracy: 0.8200 - val_loss: 0.3776 - val_accuracy: 0.8390\n",
      "Epoch 7/10\n",
      "26/26 [==============================] - 20s 758ms/step - loss: 0.3575 - accuracy: 0.8662 - val_loss: 0.3249 - val_accuracy: 0.8927\n",
      "Epoch 8/10\n",
      "26/26 [==============================] - 20s 762ms/step - loss: 0.3262 - accuracy: 0.8808 - val_loss: 0.2988 - val_accuracy: 0.9073\n",
      "Epoch 9/10\n",
      "26/26 [==============================] - 20s 765ms/step - loss: 0.2844 - accuracy: 0.8954 - val_loss: 0.2134 - val_accuracy: 0.9415\n",
      "Epoch 10/10\n",
      "26/26 [==============================] - 20s 758ms/step - loss: 0.2366 - accuracy: 0.9270 - val_loss: 0.2047 - val_accuracy: 0.9415\n"
     ]
    },
    {
     "data": {
      "text/plain": [
       "<tensorflow.python.keras.callbacks.History at 0x773083fbf910>"
      ]
     },
     "execution_count": 10,
     "metadata": {},
     "output_type": "execute_result"
    }
   ],
   "source": [
    "model = build_model(dense_units=256)\n",
    "model.compile(\n",
    "    optimizer='sgd',\n",
    "    loss='sparse_categorical_crossentropy', \n",
    "    metrics=['accuracy'])\n",
    "  \n",
    "logdir = os.path.join(\"logs\", datetime.datetime.now().strftime(\"%Y%m%d-%H%M%S\"))\n",
    "tensorboard_callback = tf.keras.callbacks.TensorBoard(logdir)\n",
    "\n",
    "model.fit(train_batches, \n",
    "          epochs=10, \n",
    "          validation_data=validation_batches, \n",
    "          callbacks=[tensorboard_callback])"
   ]
  },
  {
   "cell_type": "code",
   "execution_count": 11,
   "metadata": {
    "colab": {},
    "colab_type": "code",
    "id": "iJunWOjZE0ir"
   },
   "outputs": [
    {
     "data": {
      "text/html": [
       "\n",
       "      <iframe id=\"tensorboard-frame-c980eb1c7ce70847\" width=\"100%\" height=\"800\" frameborder=\"0\">\n",
       "      </iframe>\n",
       "      <script>\n",
       "        (function() {\n",
       "          const frame = document.getElementById(\"tensorboard-frame-c980eb1c7ce70847\");\n",
       "          const url = new URL(\"/\", window.location);\n",
       "          url.port = 6006;\n",
       "          frame.src = url;\n",
       "        })();\n",
       "      </script>\n",
       "  "
      ],
      "text/plain": [
       "<IPython.core.display.HTML object>"
      ]
     },
     "metadata": {},
     "output_type": "display_data"
    }
   ],
   "source": [
    "%tensorboard --logdir logs"
   ]
  },
  {
   "cell_type": "markdown",
   "metadata": {
    "colab_type": "text",
    "id": "wv9H4Pc2Mfl7"
   },
   "source": [
    "## [Model Checkpoint](https://keras.io/api/callbacks/model_checkpoint/)\n",
    "\n",
    "Callback to save the Keras model or model weights at some frequency."
   ]
  },
  {
   "cell_type": "code",
   "execution_count": 12,
   "metadata": {
    "colab": {},
    "colab_type": "code",
    "id": "PYV4FJ8iMmDq"
   },
   "outputs": [
    {
     "name": "stdout",
     "output_type": "stream",
     "text": [
      "Epoch 1/5\n",
      "\n",
      "Epoch 00001: saving model to weights.01-0.68.h5\n",
      "26/26 - 20s - loss: 0.6780 - accuracy: 0.5706 - val_loss: 0.6798 - val_accuracy: 0.5024\n",
      "Epoch 2/5\n",
      "\n",
      "Epoch 00002: saving model to weights.02-0.69.h5\n",
      "26/26 - 20s - loss: 0.6544 - accuracy: 0.6168 - val_loss: 0.6932 - val_accuracy: 0.4829\n",
      "Epoch 3/5\n",
      "\n",
      "Epoch 00003: saving model to weights.03-0.70.h5\n",
      "26/26 - 20s - loss: 0.6230 - accuracy: 0.6557 - val_loss: 0.6957 - val_accuracy: 0.5073\n",
      "Epoch 4/5\n",
      "\n",
      "Epoch 00004: saving model to weights.04-0.57.h5\n",
      "26/26 - 20s - loss: 0.6042 - accuracy: 0.6861 - val_loss: 0.5677 - val_accuracy: 0.7659\n",
      "Epoch 5/5\n",
      "\n",
      "Epoch 00005: saving model to weights.05-0.77.h5\n",
      "26/26 - 20s - loss: 0.5731 - accuracy: 0.7165 - val_loss: 0.7727 - val_accuracy: 0.5854\n"
     ]
    },
    {
     "data": {
      "text/plain": [
       "<tensorflow.python.keras.callbacks.History at 0x773083e09d50>"
      ]
     },
     "execution_count": 12,
     "metadata": {},
     "output_type": "execute_result"
    }
   ],
   "source": [
    "model = build_model(dense_units=256)\n",
    "model.compile(\n",
    "    optimizer='sgd',\n",
    "    loss='sparse_categorical_crossentropy', \n",
    "    metrics=['accuracy'])\n",
    "  \n",
    "model.fit(train_batches, \n",
    "          epochs=5, \n",
    "          validation_data=validation_batches, \n",
    "          verbose=2,\n",
    "          callbacks=[ModelCheckpoint('weights.{epoch:02d}-{val_loss:.2f}.h5', verbose=1),\n",
    "          ])"
   ]
  },
  {
   "cell_type": "code",
   "execution_count": 13,
   "metadata": {
    "colab": {},
    "colab_type": "code",
    "id": "oGvjQ8IlMmK6"
   },
   "outputs": [
    {
     "name": "stdout",
     "output_type": "stream",
     "text": [
      "\n",
      "Epoch 00001: saving model to saved_model\n",
      "WARNING:tensorflow:From /opt/conda/lib/python3.7/site-packages/tensorflow_core/python/ops/resource_variable_ops.py:1786: calling BaseResourceVariable.__init__ (from tensorflow.python.ops.resource_variable_ops) with constraint is deprecated and will be removed in a future version.\n",
      "Instructions for updating:\n",
      "If using Keras pass *_constraint arguments to layers.\n"
     ]
    },
    {
     "name": "stderr",
     "output_type": "stream",
     "text": [
      "WARNING:tensorflow:From /opt/conda/lib/python3.7/site-packages/tensorflow_core/python/ops/resource_variable_ops.py:1786: calling BaseResourceVariable.__init__ (from tensorflow.python.ops.resource_variable_ops) with constraint is deprecated and will be removed in a future version.\n",
      "Instructions for updating:\n",
      "If using Keras pass *_constraint arguments to layers.\n"
     ]
    },
    {
     "name": "stdout",
     "output_type": "stream",
     "text": [
      "INFO:tensorflow:Assets written to: saved_model/assets\n"
     ]
    },
    {
     "name": "stderr",
     "output_type": "stream",
     "text": [
      "INFO:tensorflow:Assets written to: saved_model/assets\n"
     ]
    },
    {
     "name": "stdout",
     "output_type": "stream",
     "text": [
      "26/26 - 21s - loss: 0.6787 - accuracy: 0.5304 - val_loss: 0.6521 - val_accuracy: 0.6683\n"
     ]
    },
    {
     "data": {
      "text/plain": [
       "<tensorflow.python.keras.callbacks.History at 0x773083c81050>"
      ]
     },
     "execution_count": 13,
     "metadata": {},
     "output_type": "execute_result"
    }
   ],
   "source": [
    "model = build_model(dense_units=256)\n",
    "model.compile(\n",
    "    optimizer='sgd',\n",
    "    loss='sparse_categorical_crossentropy', \n",
    "    metrics=['accuracy'])\n",
    "  \n",
    "model.fit(train_batches, \n",
    "          epochs=1, \n",
    "          validation_data=validation_batches, \n",
    "          verbose=2,\n",
    "          callbacks=[ModelCheckpoint('saved_model', verbose=1)\n",
    "          ])"
   ]
  },
  {
   "cell_type": "code",
   "execution_count": 14,
   "metadata": {
    "colab": {},
    "colab_type": "code",
    "id": "Y1ConwoB0EjD"
   },
   "outputs": [
    {
     "name": "stdout",
     "output_type": "stream",
     "text": [
      "Epoch 1/2\n",
      "\n",
      "Epoch 00001: saving model to model.h5\n",
      "26/26 - 21s - loss: 0.6545 - accuracy: 0.5779 - val_loss: 0.6858 - val_accuracy: 0.4634\n",
      "Epoch 2/2\n",
      "\n",
      "Epoch 00002: saving model to model.h5\n",
      "26/26 - 21s - loss: 0.6084 - accuracy: 0.6752 - val_loss: 0.5656 - val_accuracy: 0.6634\n"
     ]
    },
    {
     "data": {
      "text/plain": [
       "<tensorflow.python.keras.callbacks.History at 0x773083ae8d90>"
      ]
     },
     "execution_count": 14,
     "metadata": {},
     "output_type": "execute_result"
    }
   ],
   "source": [
    "model = build_model(dense_units=256)\n",
    "model.compile(\n",
    "    optimizer='sgd',\n",
    "    loss='sparse_categorical_crossentropy', \n",
    "    metrics=['accuracy'])\n",
    "  \n",
    "model.fit(train_batches, \n",
    "          epochs=2, \n",
    "          validation_data=validation_batches, \n",
    "          verbose=2,\n",
    "          callbacks=[ModelCheckpoint('model.h5', verbose=1)\n",
    "          ])"
   ]
  },
  {
   "cell_type": "markdown",
   "metadata": {
    "colab_type": "text",
    "id": "kptNF0--Lznv"
   },
   "source": [
    "## [Early stopping](https://keras.io/api/callbacks/early_stopping/)\n",
    "\n",
    "Stop training when a monitored metric has stopped improving."
   ]
  },
  {
   "cell_type": "code",
   "execution_count": 15,
   "metadata": {
    "colab": {},
    "colab_type": "code",
    "id": "KJOJTJYdCkdY"
   },
   "outputs": [
    {
     "name": "stdout",
     "output_type": "stream",
     "text": [
      "Epoch 1/50\n",
      "26/26 - 21s - loss: 0.6572 - accuracy: 0.6411 - val_loss: 0.6369 - val_accuracy: 0.6732\n",
      "Epoch 2/50\n",
      "26/26 - 20s - loss: 0.6026 - accuracy: 0.6667 - val_loss: 0.5703 - val_accuracy: 0.7805\n",
      "Epoch 3/50\n",
      "26/26 - 20s - loss: 0.5342 - accuracy: 0.7506 - val_loss: 0.5922 - val_accuracy: 0.6585\n",
      "Epoch 4/50\n",
      "26/26 - 20s - loss: 0.4793 - accuracy: 0.7895 - val_loss: 0.4611 - val_accuracy: 0.8244\n",
      "Epoch 5/50\n",
      "26/26 - 20s - loss: 0.4130 - accuracy: 0.8260 - val_loss: 0.8140 - val_accuracy: 0.5122\n",
      "Epoch 6/50\n",
      "26/26 - 20s - loss: 0.3635 - accuracy: 0.8625 - val_loss: 0.3014 - val_accuracy: 0.9122\n",
      "Epoch 7/50\n",
      "26/26 - 20s - loss: 0.3145 - accuracy: 0.8808 - val_loss: 0.2763 - val_accuracy: 0.9122\n",
      "Epoch 8/50\n",
      "26/26 - 20s - loss: 0.2377 - accuracy: 0.9258 - val_loss: 0.1918 - val_accuracy: 0.9512\n",
      "Epoch 9/50\n",
      "26/26 - 20s - loss: 0.1874 - accuracy: 0.9562 - val_loss: 0.1816 - val_accuracy: 0.9415\n",
      "Epoch 10/50\n",
      "26/26 - 20s - loss: 0.1964 - accuracy: 0.9477 - val_loss: 0.1175 - val_accuracy: 0.9854\n",
      "Epoch 11/50\n",
      "26/26 - 20s - loss: 0.1213 - accuracy: 0.9757 - val_loss: 0.0956 - val_accuracy: 0.9902\n",
      "Epoch 12/50\n",
      "26/26 - 20s - loss: 0.0970 - accuracy: 0.9793 - val_loss: 0.0786 - val_accuracy: 0.9756\n",
      "Epoch 13/50\n",
      "26/26 - 20s - loss: 0.0872 - accuracy: 0.9818 - val_loss: 0.0675 - val_accuracy: 0.9902\n",
      "Epoch 14/50\n",
      "26/26 - 20s - loss: 0.0693 - accuracy: 0.9903 - val_loss: 0.0676 - val_accuracy: 0.9707\n",
      "Epoch 15/50\n",
      "26/26 - 20s - loss: 0.0875 - accuracy: 0.9769 - val_loss: 0.0689 - val_accuracy: 0.9756\n",
      "Epoch 16/50\n",
      "Restoring model weights from the end of the best epoch.\n",
      "26/26 - 20s - loss: 0.0539 - accuracy: 0.9891 - val_loss: 0.0518 - val_accuracy: 0.9805\n",
      "Epoch 00016: early stopping\n"
     ]
    },
    {
     "data": {
      "text/plain": [
       "<tensorflow.python.keras.callbacks.History at 0x7730838c8090>"
      ]
     },
     "execution_count": 15,
     "metadata": {},
     "output_type": "execute_result"
    }
   ],
   "source": [
    "model = build_model(dense_units=256)\n",
    "model.compile(\n",
    "    optimizer='sgd',\n",
    "    loss='sparse_categorical_crossentropy', \n",
    "    metrics=['accuracy'])\n",
    "  \n",
    "model.fit(train_batches, \n",
    "          epochs=50, \n",
    "          validation_data=validation_batches, \n",
    "          verbose=2,\n",
    "          callbacks=[EarlyStopping(\n",
    "              patience=3,\n",
    "              min_delta=0.05,\n",
    "              baseline=0.8,\n",
    "              mode='min',\n",
    "              monitor='val_loss',\n",
    "              restore_best_weights=True,\n",
    "              verbose=1)\n",
    "          ])"
   ]
  },
  {
   "cell_type": "markdown",
   "metadata": {
    "colab_type": "text",
    "id": "8mDzWUD4Pqq5"
   },
   "source": [
    "## [CSV Logger](https://keras.io/api/callbacks/csv_logger/)\n",
    "\n",
    "Callback that streams epoch results to a CSV file."
   ]
  },
  {
   "cell_type": "code",
   "execution_count": 16,
   "metadata": {
    "colab": {},
    "colab_type": "code",
    "id": "cffnMpmGPtMh"
   },
   "outputs": [
    {
     "name": "stdout",
     "output_type": "stream",
     "text": [
      "Epoch 1/5\n",
      "26/26 [==============================] - 21s 794ms/step - loss: 0.6635 - accuracy: 0.6314 - val_loss: 0.7629 - val_accuracy: 0.4341\n",
      "Epoch 2/5\n",
      "26/26 [==============================] - 20s 769ms/step - loss: 0.6207 - accuracy: 0.6837 - val_loss: 0.5730 - val_accuracy: 0.8049\n",
      "Epoch 3/5\n",
      "26/26 [==============================] - 20s 773ms/step - loss: 0.5479 - accuracy: 0.7567 - val_loss: 0.4984 - val_accuracy: 0.8244\n",
      "Epoch 4/5\n",
      "26/26 [==============================] - 20s 765ms/step - loss: 0.4871 - accuracy: 0.7859 - val_loss: 0.4349 - val_accuracy: 0.8537\n",
      "Epoch 5/5\n",
      "26/26 [==============================] - 20s 773ms/step - loss: 0.3957 - accuracy: 0.8321 - val_loss: 0.3358 - val_accuracy: 0.8780\n"
     ]
    },
    {
     "data": {
      "text/plain": [
       "<tensorflow.python.keras.callbacks.History at 0x77308383cdd0>"
      ]
     },
     "execution_count": 16,
     "metadata": {},
     "output_type": "execute_result"
    }
   ],
   "source": [
    "model = build_model(dense_units=256)\n",
    "model.compile(\n",
    "    optimizer='sgd',\n",
    "    loss='sparse_categorical_crossentropy', \n",
    "    metrics=['accuracy'])\n",
    "  \n",
    "csv_file = 'training.csv'\n",
    "\n",
    "model.fit(train_batches, \n",
    "          epochs=5, \n",
    "          validation_data=validation_batches, \n",
    "          callbacks=[CSVLogger(csv_file)\n",
    "          ])"
   ]
  },
  {
   "cell_type": "code",
   "execution_count": 17,
   "metadata": {
    "colab": {},
    "colab_type": "code",
    "id": "B9tkYi03QV7R"
   },
   "outputs": [
    {
     "data": {
      "text/html": [
       "<div>\n",
       "<style scoped>\n",
       "    .dataframe tbody tr th:only-of-type {\n",
       "        vertical-align: middle;\n",
       "    }\n",
       "\n",
       "    .dataframe tbody tr th {\n",
       "        vertical-align: top;\n",
       "    }\n",
       "\n",
       "    .dataframe thead th {\n",
       "        text-align: right;\n",
       "    }\n",
       "</style>\n",
       "<table border=\"1\" class=\"dataframe\">\n",
       "  <thead>\n",
       "    <tr style=\"text-align: right;\">\n",
       "      <th></th>\n",
       "      <th>epoch</th>\n",
       "      <th>accuracy</th>\n",
       "      <th>loss</th>\n",
       "      <th>val_accuracy</th>\n",
       "      <th>val_loss</th>\n",
       "    </tr>\n",
       "  </thead>\n",
       "  <tbody>\n",
       "    <tr>\n",
       "      <th>0</th>\n",
       "      <td>0</td>\n",
       "      <td>0.631387</td>\n",
       "      <td>0.664820</td>\n",
       "      <td>0.434146</td>\n",
       "      <td>0.762854</td>\n",
       "    </tr>\n",
       "    <tr>\n",
       "      <th>1</th>\n",
       "      <td>1</td>\n",
       "      <td>0.683698</td>\n",
       "      <td>0.621352</td>\n",
       "      <td>0.804878</td>\n",
       "      <td>0.572997</td>\n",
       "    </tr>\n",
       "    <tr>\n",
       "      <th>2</th>\n",
       "      <td>2</td>\n",
       "      <td>0.756691</td>\n",
       "      <td>0.548339</td>\n",
       "      <td>0.824390</td>\n",
       "      <td>0.498368</td>\n",
       "    </tr>\n",
       "    <tr>\n",
       "      <th>3</th>\n",
       "      <td>3</td>\n",
       "      <td>0.785888</td>\n",
       "      <td>0.487160</td>\n",
       "      <td>0.853659</td>\n",
       "      <td>0.434921</td>\n",
       "    </tr>\n",
       "    <tr>\n",
       "      <th>4</th>\n",
       "      <td>4</td>\n",
       "      <td>0.832117</td>\n",
       "      <td>0.395930</td>\n",
       "      <td>0.878049</td>\n",
       "      <td>0.335759</td>\n",
       "    </tr>\n",
       "  </tbody>\n",
       "</table>\n",
       "</div>"
      ],
      "text/plain": [
       "   epoch  accuracy      loss  val_accuracy  val_loss\n",
       "0      0  0.631387  0.664820      0.434146  0.762854\n",
       "1      1  0.683698  0.621352      0.804878  0.572997\n",
       "2      2  0.756691  0.548339      0.824390  0.498368\n",
       "3      3  0.785888  0.487160      0.853659  0.434921\n",
       "4      4  0.832117  0.395930      0.878049  0.335759"
      ]
     },
     "execution_count": 17,
     "metadata": {},
     "output_type": "execute_result"
    }
   ],
   "source": [
    "pd.read_csv(csv_file).head()"
   ]
  },
  {
   "cell_type": "markdown",
   "metadata": {
    "colab_type": "text",
    "id": "Dt9C2Y9fRBKN"
   },
   "source": [
    "## [Learning Rate Scheduler](https://keras.io/api/callbacks/learning_rate_scheduler/)\n",
    "\n",
    "Updates the learning rate during training."
   ]
  },
  {
   "cell_type": "code",
   "execution_count": 18,
   "metadata": {
    "colab": {},
    "colab_type": "code",
    "id": "aJi-xY2VRC03"
   },
   "outputs": [
    {
     "name": "stdout",
     "output_type": "stream",
     "text": [
      "\n",
      "Epoch 00001: LearningRateScheduler reducing learning rate to 0.005.\n",
      "Epoch 1/5\n",
      "26/26 [==============================] - 29s 1s/step - loss: 0.6698 - accuracy: 0.5742 - val_loss: 0.6509 - val_accuracy: 0.7463\n",
      "\n",
      "Epoch 00002: LearningRateScheduler reducing learning rate to 0.0025.\n",
      "Epoch 2/5\n",
      "26/26 [==============================] - 20s 784ms/step - loss: 0.6370 - accuracy: 0.6727 - val_loss: 0.6452 - val_accuracy: 0.5707\n",
      "\n",
      "Epoch 00003: LearningRateScheduler reducing learning rate to 0.00125.\n",
      "Epoch 3/5\n",
      "26/26 [==============================] - 20s 761ms/step - loss: 0.6202 - accuracy: 0.7324 - val_loss: 0.6385 - val_accuracy: 0.5951\n",
      "\n",
      "Epoch 00004: LearningRateScheduler reducing learning rate to 0.000625.\n",
      "Epoch 4/5\n",
      "26/26 [==============================] - 20s 773ms/step - loss: 0.6120 - accuracy: 0.7153 - val_loss: 0.6255 - val_accuracy: 0.7366\n",
      "\n",
      "Epoch 00005: LearningRateScheduler reducing learning rate to 0.0003125.\n",
      "Epoch 5/5\n",
      "26/26 [==============================] - 20s 765ms/step - loss: 0.6073 - accuracy: 0.7603 - val_loss: 0.6230 - val_accuracy: 0.7366\n"
     ]
    },
    {
     "data": {
      "text/plain": [
       "<tensorflow.python.keras.callbacks.History at 0x773080fe7610>"
      ]
     },
     "execution_count": 18,
     "metadata": {},
     "output_type": "execute_result"
    }
   ],
   "source": [
    "model = build_model(dense_units=256)\n",
    "model.compile(\n",
    "    optimizer='sgd',\n",
    "    loss='sparse_categorical_crossentropy', \n",
    "    metrics=['accuracy'])\n",
    "  \n",
    "def step_decay(epoch):\n",
    "\tinitial_lr = 0.01\n",
    "\tdrop = 0.5\n",
    "\tepochs_drop = 1\n",
    "\tlr = initial_lr * math.pow(drop, math.floor((1+epoch)/epochs_drop))\n",
    "\treturn lr\n",
    "\n",
    "model.fit(train_batches, \n",
    "          epochs=5, \n",
    "          validation_data=validation_batches, \n",
    "          callbacks=[LearningRateScheduler(step_decay, verbose=1),\n",
    "                    TensorBoard(log_dir='./log_dir')])"
   ]
  },
  {
   "cell_type": "code",
   "execution_count": 19,
   "metadata": {
    "colab": {},
    "colab_type": "code",
    "id": "M2S4n8nrbV91"
   },
   "outputs": [
    {
     "data": {
      "text/html": [
       "\n",
       "      <iframe id=\"tensorboard-frame-fbb43a60a735eafd\" width=\"100%\" height=\"800\" frameborder=\"0\">\n",
       "      </iframe>\n",
       "      <script>\n",
       "        (function() {\n",
       "          const frame = document.getElementById(\"tensorboard-frame-fbb43a60a735eafd\");\n",
       "          const url = new URL(\"/\", window.location);\n",
       "          url.port = 6007;\n",
       "          frame.src = url;\n",
       "        })();\n",
       "      </script>\n",
       "  "
      ],
      "text/plain": [
       "<IPython.core.display.HTML object>"
      ]
     },
     "metadata": {},
     "output_type": "display_data"
    }
   ],
   "source": [
    "%tensorboard --logdir log_dir"
   ]
  },
  {
   "cell_type": "markdown",
   "metadata": {
    "colab_type": "text",
    "id": "y0wcuQyJE_UK"
   },
   "source": [
    "## [ReduceLROnPlateau](https://keras.io/api/callbacks/reduce_lr_on_plateau/)\n",
    "\n",
    "Reduce learning rate when a metric has stopped improving."
   ]
  },
  {
   "cell_type": "code",
   "execution_count": null,
   "metadata": {
    "colab": {},
    "colab_type": "code",
    "id": "4naxZ-eCFB27"
   },
   "outputs": [
    {
     "name": "stdout",
     "output_type": "stream",
     "text": [
      "Epoch 1/50\n",
      "26/26 [==============================] - 23s 895ms/step - loss: 0.6599 - accuracy: 0.6290 - val_loss: 0.6309 - val_accuracy: 0.6439\n",
      "Epoch 2/50\n",
      "26/26 [==============================] - 20s 776ms/step - loss: 0.6017 - accuracy: 0.7165 - val_loss: 0.5374 - val_accuracy: 0.8488\n",
      "Epoch 3/50\n",
      "26/26 [==============================] - 20s 784ms/step - loss: 0.5326 - accuracy: 0.7579 - val_loss: 0.4521 - val_accuracy: 0.8585\n",
      "Epoch 4/50\n",
      "26/26 [==============================] - 20s 761ms/step - loss: 0.4426 - accuracy: 0.8297 - val_loss: 0.3664 - val_accuracy: 0.8927\n",
      "Epoch 5/50\n",
      "26/26 [==============================] - 20s 754ms/step - loss: 0.3636 - accuracy: 0.8577 - val_loss: 0.3121 - val_accuracy: 0.9122\n",
      "Epoch 6/50\n",
      "26/26 [==============================] - 20s 761ms/step - loss: 0.2781 - accuracy: 0.9124 - val_loss: 0.2092 - val_accuracy: 0.9561\n",
      "Epoch 7/50\n",
      "25/26 [===========================>..] - ETA: 0s - loss: 0.2403 - accuracy: 0.9225\n",
      "Epoch 00007: ReduceLROnPlateau reducing learning rate to 0.0019999999552965165.\n",
      "26/26 [==============================] - 21s 789ms/step - loss: 0.2368 - accuracy: 0.9246 - val_loss: 0.2299 - val_accuracy: 0.9220\n",
      "Epoch 8/50\n",
      "26/26 [==============================] - 20s 757ms/step - loss: 0.1697 - accuracy: 0.9659 - val_loss: 0.1661 - val_accuracy: 0.9463\n",
      "Epoch 9/50\n",
      "26/26 [==============================] - 19s 750ms/step - loss: 0.1591 - accuracy: 0.9720 - val_loss: 0.1495 - val_accuracy: 0.9610\n",
      "Epoch 10/50\n",
      "26/26 [==============================] - 20s 750ms/step - loss: 0.1492 - accuracy: 0.9732 - val_loss: 0.1398 - val_accuracy: 0.9659\n",
      "Epoch 11/50\n",
      "26/26 [==============================] - 20s 754ms/step - loss: 0.1411 - accuracy: 0.9781 - val_loss: 0.1281 - val_accuracy: 0.9756\n",
      "Epoch 12/50\n",
      "25/26 [===========================>..] - ETA: 0s - loss: 0.1332 - accuracy: 0.9762\n",
      "Epoch 00012: ReduceLROnPlateau reducing learning rate to 0.001.\n",
      "26/26 [==============================] - 20s 754ms/step - loss: 0.1329 - accuracy: 0.9769 - val_loss: 0.1367 - val_accuracy: 0.9512\n",
      "Epoch 13/50\n",
      "26/26 [==============================] - 20s 754ms/step - loss: 0.1263 - accuracy: 0.9769 - val_loss: 0.1206 - val_accuracy: 0.9756\n",
      "Epoch 14/50\n",
      "26/26 [==============================] - 20s 756ms/step - loss: 0.1237 - accuracy: 0.9830 - val_loss: 0.1187 - val_accuracy: 0.9756\n",
      "Epoch 15/50\n",
      "26/26 [==============================] - 19s 748ms/step - loss: 0.1198 - accuracy: 0.9805 - val_loss: 0.1161 - val_accuracy: 0.9756\n",
      "Epoch 16/50\n",
      "25/26 [===========================>..] - ETA: 0s - loss: 0.1168 - accuracy: 0.9825\n",
      "Epoch 00016: ReduceLROnPlateau reducing learning rate to 0.001.\n",
      "26/26 [==============================] - 19s 742ms/step - loss: 0.1184 - accuracy: 0.9818 - val_loss: 0.1232 - val_accuracy: 0.9610\n",
      "Epoch 17/50\n",
      "26/26 [==============================] - 20s 754ms/step - loss: 0.1158 - accuracy: 0.9781 - val_loss: 0.1141 - val_accuracy: 0.9659\n",
      "Epoch 18/50\n",
      "26/26 [==============================] - 19s 750ms/step - loss: 0.1123 - accuracy: 0.9818 - val_loss: 0.1117 - val_accuracy: 0.9707\n",
      "Epoch 19/50\n",
      "26/26 [==============================] - 19s 742ms/step - loss: 0.1107 - accuracy: 0.9818 - val_loss: 0.1053 - val_accuracy: 0.9805\n",
      "Epoch 20/50\n",
      "25/26 [===========================>..] - ETA: 0s - loss: 0.1070 - accuracy: 0.9837\n",
      "Epoch 00020: ReduceLROnPlateau reducing learning rate to 0.001.\n",
      "26/26 [==============================] - 20s 758ms/step - loss: 0.1068 - accuracy: 0.9842 - val_loss: 0.1074 - val_accuracy: 0.9756\n",
      "Epoch 21/50\n",
      "26/26 [==============================] - 20s 750ms/step - loss: 0.1041 - accuracy: 0.9854 - val_loss: 0.1049 - val_accuracy: 0.9756\n",
      "Epoch 22/50\n",
      "26/26 [==============================] - 20s 754ms/step - loss: 0.1022 - accuracy: 0.9830 - val_loss: 0.1014 - val_accuracy: 0.9805\n",
      "Epoch 23/50\n",
      "26/26 [==============================] - 19s 750ms/step - loss: 0.0996 - accuracy: 0.9854 - val_loss: 0.0965 - val_accuracy: 0.9854\n",
      "Epoch 24/50\n",
      "25/26 [===========================>..] - ETA: 0s - loss: 0.0980 - accuracy: 0.9862\n",
      "Epoch 00024: ReduceLROnPlateau reducing learning rate to 0.001.\n",
      "26/26 [==============================] - 20s 758ms/step - loss: 0.0986 - accuracy: 0.9854 - val_loss: 0.0996 - val_accuracy: 0.9756\n",
      "Epoch 25/50\n",
      "26/26 [==============================] - 20s 758ms/step - loss: 0.0956 - accuracy: 0.9842 - val_loss: 0.0956 - val_accuracy: 0.9756\n",
      "Epoch 26/50\n",
      "26/26 [==============================] - 19s 742ms/step - loss: 0.0957 - accuracy: 0.9854 - val_loss: 0.0915 - val_accuracy: 0.9854\n",
      "Epoch 27/50\n",
      "26/26 [==============================] - 19s 750ms/step - loss: 0.0928 - accuracy: 0.9854 - val_loss: 0.0898 - val_accuracy: 0.9854\n",
      "Epoch 28/50\n",
      "25/26 [===========================>..] - ETA: 0s - loss: 0.0898 - accuracy: 0.9875\n",
      "Epoch 00028: ReduceLROnPlateau reducing learning rate to 0.001.\n",
      "26/26 [==============================] - 20s 764ms/step - loss: 0.0909 - accuracy: 0.9866 - val_loss: 0.0918 - val_accuracy: 0.9756\n",
      "Epoch 29/50\n",
      "26/26 [==============================] - 20s 779ms/step - loss: 0.0892 - accuracy: 0.9854 - val_loss: 0.0879 - val_accuracy: 0.9854\n",
      "Epoch 30/50\n",
      "25/26 [===========================>..] - ETA: 0s - loss: 0.0877 - accuracy: 0.9862\n",
      "Epoch 00030: ReduceLROnPlateau reducing learning rate to 0.001.\n",
      "26/26 [==============================] - 20s 773ms/step - loss: 0.0861 - accuracy: 0.9866 - val_loss: 0.0884 - val_accuracy: 0.9756\n",
      "Epoch 31/50\n",
      "25/26 [===========================>..] - ETA: 0s - loss: 0.0837 - accuracy: 0.9862\n",
      "Epoch 00031: ReduceLROnPlateau reducing learning rate to 0.001.\n",
      "26/26 [==============================] - 20s 770ms/step - loss: 0.0860 - accuracy: 0.9854 - val_loss: 0.0891 - val_accuracy: 0.9756\n",
      "Epoch 32/50\n",
      "25/26 [===========================>..] - ETA: 0s - loss: 0.0827 - accuracy: 0.9862\n",
      "Epoch 00032: ReduceLROnPlateau reducing learning rate to 0.001.\n",
      "26/26 [==============================] - 20s 787ms/step - loss: 0.0833 - accuracy: 0.9854 - val_loss: 0.0921 - val_accuracy: 0.9707\n",
      "Epoch 33/50\n",
      "26/26 [==============================] - 20s 773ms/step - loss: 0.0816 - accuracy: 0.9866 - val_loss: 0.0873 - val_accuracy: 0.9756\n",
      "Epoch 34/50\n",
      "26/26 [==============================] - 19s 750ms/step - loss: 0.0800 - accuracy: 0.9854 - val_loss: 0.0811 - val_accuracy: 0.9805\n",
      "Epoch 35/50\n",
      "25/26 [===========================>..] - ETA: 0s - loss: 0.0790 - accuracy: 0.9850\n",
      "Epoch 00035: ReduceLROnPlateau reducing learning rate to 0.001.\n",
      "26/26 [==============================] - 19s 748ms/step - loss: 0.0784 - accuracy: 0.9854 - val_loss: 0.0813 - val_accuracy: 0.9805\n",
      "Epoch 36/50\n",
      "26/26 [==============================] - 20s 753ms/step - loss: 0.0767 - accuracy: 0.9854 - val_loss: 0.0801 - val_accuracy: 0.9805\n",
      "Epoch 37/50\n",
      "25/26 [===========================>..] - ETA: 0s - loss: 0.0749 - accuracy: 0.9875\n",
      "Epoch 00037: ReduceLROnPlateau reducing learning rate to 0.001.\n",
      "26/26 [==============================] - 20s 752ms/step - loss: 0.0758 - accuracy: 0.9866 - val_loss: 0.0865 - val_accuracy: 0.9707\n",
      "Epoch 38/50\n",
      "26/26 [==============================] - 20s 751ms/step - loss: 0.0744 - accuracy: 0.9854 - val_loss: 0.0772 - val_accuracy: 0.9854\n",
      "Epoch 39/50\n",
      "25/26 [===========================>..] - ETA: 0s - loss: 0.0740 - accuracy: 0.9875\n",
      "Epoch 00039: ReduceLROnPlateau reducing learning rate to 0.001.\n",
      "26/26 [==============================] - 19s 734ms/step - loss: 0.0730 - accuracy: 0.9878 - val_loss: 0.0776 - val_accuracy: 0.9805\n",
      "Epoch 40/50\n",
      "26/26 [==============================] - 20s 761ms/step - loss: 0.0715 - accuracy: 0.9854 - val_loss: 0.0744 - val_accuracy: 0.9854\n",
      "Epoch 41/50\n",
      "25/26 [===========================>..] - ETA: 0s - loss: 0.0710 - accuracy: 0.9862\n",
      "Epoch 00041: ReduceLROnPlateau reducing learning rate to 0.001.\n",
      "26/26 [==============================] - 19s 742ms/step - loss: 0.0704 - accuracy: 0.9866 - val_loss: 0.0751 - val_accuracy: 0.9854\n",
      "Epoch 42/50\n",
      "25/26 [===========================>..] - ETA: 0s - loss: 0.0686 - accuracy: 0.9887\n",
      "Epoch 00042: ReduceLROnPlateau reducing learning rate to 0.001.\n",
      "26/26 [==============================] - 19s 735ms/step - loss: 0.0688 - accuracy: 0.9891 - val_loss: 0.0753 - val_accuracy: 0.9805\n",
      "Epoch 43/50\n",
      "25/26 [===========================>..] - ETA: 0s - loss: 0.0675 - accuracy: 0.9875\n",
      "Epoch 00043: ReduceLROnPlateau reducing learning rate to 0.001.\n",
      "26/26 [==============================] - 20s 754ms/step - loss: 0.0689 - accuracy: 0.9866 - val_loss: 0.0778 - val_accuracy: 0.9707\n",
      "Epoch 44/50\n",
      "26/26 [==============================] - 20s 757ms/step - loss: 0.0670 - accuracy: 0.9866 - val_loss: 0.0735 - val_accuracy: 0.9805\n",
      "Epoch 45/50\n",
      "26/26 [==============================] - 20s 758ms/step - loss: 0.0655 - accuracy: 0.9878 - val_loss: 0.0709 - val_accuracy: 0.9854\n",
      "Epoch 46/50\n",
      " 1/26 [>.............................] - ETA: 52s - loss: 0.0448 - accuracy: 1.0000"
     ]
    }
   ],
   "source": [
    "model = build_model(dense_units=256)\n",
    "model.compile(\n",
    "    optimizer='sgd',\n",
    "    loss='sparse_categorical_crossentropy', \n",
    "    metrics=['accuracy'])\n",
    "  \n",
    "model.fit(train_batches, \n",
    "          epochs=50, \n",
    "          validation_data=validation_batches, \n",
    "          callbacks=[ReduceLROnPlateau(monitor='val_loss', \n",
    "                                       factor=0.2, verbose=1,\n",
    "                                       patience=1, min_lr=0.001),\n",
    "                     TensorBoard(log_dir='./log_dir')])"
   ]
  },
  {
   "cell_type": "code",
   "execution_count": null,
   "metadata": {
    "colab": {},
    "colab_type": "code",
    "id": "isfTWP4NYudk"
   },
   "outputs": [],
   "source": [
    "%tensorboard --logdir log_dir"
   ]
  }
 ],
 "metadata": {
  "colab": {
   "collapsed_sections": [],
   "include_colab_link": true,
   "name": "ExploringCallbacks.ipynb",
   "provenance": []
  },
  "kernelspec": {
   "display_name": "Python 3",
   "language": "python",
   "name": "python3"
  },
  "language_info": {
   "codemirror_mode": {
    "name": "ipython",
    "version": 3
   },
   "file_extension": ".py",
   "mimetype": "text/x-python",
   "name": "python",
   "nbconvert_exporter": "python",
   "pygments_lexer": "ipython3",
   "version": "3.7.6"
  }
 },
 "nbformat": 4,
 "nbformat_minor": 4
}
